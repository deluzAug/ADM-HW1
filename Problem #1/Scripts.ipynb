{
 "cells": [
  {
   "cell_type": "markdown",
   "metadata": {},
   "source": [
    "# Problem 1\n",
    "\n",
    "## Introduction\n",
    "\n",
    "### Arithmetic Operators"
   ]
  },
  {
   "cell_type": "code",
   "execution_count": null,
   "metadata": {},
   "outputs": [],
   "source": [
    "if __name__ == '__main__':\n",
    "    a = int(input())\n",
    "    b = int(input())\n",
    "    \n",
    "    print(a+b)\n",
    "    print(a-b)\n",
    "    print(a*b)\n",
    "    \n",
    "    if 1 <= a <=10^10 or 1 <= b <=10^10 : \n",
    "            raise Exception('error, value out of bound')\n"
   ]
  },
  {
   "cell_type": "markdown",
   "metadata": {},
   "source": [
    "### loops"
   ]
  },
  {
   "cell_type": "code",
   "execution_count": null,
   "metadata": {},
   "outputs": [],
   "source": [
    "if __name__ == '__main__':\n",
    "    n = int(input())\n",
    "    \n",
    "    if n < 1 or n > 20:\n",
    "        raise Exception('Number out of constraints')\n",
    "    \n",
    "    for i in range(0,n):\n",
    "        print(i**2)        \n"
   ]
  },
  {
   "cell_type": "markdown",
   "metadata": {},
   "source": [
    "### Print Function"
   ]
  },
  {
   "cell_type": "code",
   "execution_count": null,
   "metadata": {},
   "outputs": [],
   "source": [
    "if __name__ == '__main__':\n",
    "    n = int(input())\n",
    "    string = ''\n",
    "    for i in range(1,n+1):\n",
    "            string += str(i)\n",
    "    print(string)\n"
   ]
  },
  {
   "cell_type": "markdown",
   "metadata": {},
   "source": [
    "### Python If-Else"
   ]
  },
  {
   "cell_type": "code",
   "execution_count": null,
   "metadata": {},
   "outputs": [],
   "source": [
    "#!/bin/python3\n",
    "\n",
    "import math\n",
    "import os\n",
    "import random\n",
    "import re\n",
    "import sys\n",
    "\n",
    "\n",
    "\n",
    "if __name__ == '__main__':\n",
    "    n = int(input().strip())\n",
    "    if n > 100 or n<1: \n",
    "            raise Exception(\"number out of constraints\")\n",
    "    if n % 2 != 0:\n",
    "            print('Weird')\n",
    "    elif 2 <= n <= 5 and n % 2 == 0:\n",
    "            print('Not Weird')      \n",
    "    elif 6<= n <= 20 and n % 2 == 0:\n",
    "            print('Weird')        \n",
    "    elif n >20 and n % 2 == 0:\n",
    "            print('Not Weird')       \n"
   ]
  },
  {
   "cell_type": "markdown",
   "metadata": {},
   "source": [
    "### Python: Division"
   ]
  },
  {
   "cell_type": "code",
   "execution_count": null,
   "metadata": {},
   "outputs": [],
   "source": [
    "if __name__ == '__main__':\n",
    "    a = int(input())\n",
    "    b = int(input())\n",
    "    \n",
    "    print(a//b)\n",
    "    print(a/b)\n"
   ]
  },
  {
   "cell_type": "markdown",
   "metadata": {},
   "source": [
    "### Say \"Hello, World!\" With Python"
   ]
  },
  {
   "cell_type": "code",
   "execution_count": null,
   "metadata": {},
   "outputs": [],
   "source": [
    "print(\"Hello, World!\")"
   ]
  },
  {
   "cell_type": "markdown",
   "metadata": {},
   "source": [
    "### Write a function"
   ]
  },
  {
   "cell_type": "code",
   "execution_count": null,
   "metadata": {},
   "outputs": [],
   "source": [
    "def is_leap(year):\n",
    "    leap = False\n",
    "    if not 1900<= year <= 10**5:\n",
    "            raise Exception('Year out of constraints')\n",
    "    if year % 4 == 0 and year % 100 !=0:\n",
    "            return not leap\n",
    "    elif year % 4 == 0 and year % 100 == 0: \n",
    "            if year % 400 == 0:\n",
    "                    return not leap\n",
    "            else: return leap\n",
    "    else: return leap\n",
    "    "
   ]
  },
  {
   "cell_type": "markdown",
   "metadata": {},
   "source": [
    "## Basic Data Types\n",
    "\n",
    "### Find the Runner-Up Score"
   ]
  },
  {
   "cell_type": "code",
   "execution_count": null,
   "metadata": {},
   "outputs": [],
   "source": [
    "if __name__ == '__main__':\n",
    "    n = int(input())\n",
    "    arr = map(int, input().split())\n",
    "    arr = list(arr)\n",
    "    arr.sort()\n",
    "    x = arr.index(max(arr)) \n",
    "    print(arr[x-1])\n",
    "    \n"
   ]
  },
  {
   "cell_type": "markdown",
   "metadata": {},
   "source": [
    "### Finding the percentage"
   ]
  },
  {
   "cell_type": "code",
   "execution_count": null,
   "metadata": {},
   "outputs": [],
   "source": [
    "if __name__ == '__main__':\n",
    "    n = int(input())\n",
    "    student_marks = {}\n",
    "    for _ in range(n):\n",
    "        name, *line = input().split()\n",
    "        scores = list(map(float, line))\n",
    "        student_marks[name] = scores\n",
    "    query_name = input()\n",
    "    \n",
    "    result = sum(student_marks[query_name])/len(student_marks[query_name])\n",
    "    #since rounding wouldn't work I need to use f-string formatting\n",
    "    result = f\"{result:.2f}\"\n",
    "    print(result)\n"
   ]
  },
  {
   "cell_type": "markdown",
   "metadata": {},
   "source": [
    "### list comprehension"
   ]
  },
  {
   "cell_type": "code",
   "execution_count": null,
   "metadata": {},
   "outputs": [],
   "source": [
    "if __name__ == '__main__':\n",
    "    x = int(input())\n",
    "    y = int(input())\n",
    "    z = int(input())\n",
    "    n = int(input())\n",
    "    \n",
    "    list = [x,y,z]\n",
    "    \n",
    "    print([[a,b,c] for a in range(x+1) for b in range(y+1) for c in range(z+1) if a+b+c != n])\n",
    "    \n"
   ]
  },
  {
   "cell_type": "markdown",
   "metadata": {},
   "source": [
    "### Lists"
   ]
  },
  {
   "cell_type": "code",
   "execution_count": null,
   "metadata": {},
   "outputs": [],
   "source": [
    "if __name__ == '__main__':\n",
    "    N = int(input())\n",
    "    commands = [[ x for x in input().split()]for i in range(N)]\n",
    "    array = list()\n",
    "    for i in commands:\n",
    "            if i[0] == \"print\":\n",
    "                    print(array)\n",
    "            elif i[0] == \"insert\":\n",
    "                    array.insert(int(i[1]), int(i[2]))\n",
    "            elif i[0] == \"append\":\n",
    "                    array.append(int(i[1]))\n",
    "            elif i[0] == \"remove\":\n",
    "                    array.remove(int(i[1]))\n",
    "            elif i[0] == \"sort\":\n",
    "                    array.sort()\n",
    "            elif i[0] == \"pop\":\n",
    "                    array.pop(-1)\n",
    "            elif i[0] == \"reverse\":\n",
    "                    array.reverse()\n",
    "    "
   ]
  },
  {
   "cell_type": "markdown",
   "metadata": {},
   "source": [
    "### nested lists"
   ]
  },
  {
   "cell_type": "code",
   "execution_count": null,
   "metadata": {},
   "outputs": [],
   "source": [
    "if __name__ == '__main__':\n",
    "    students = list()\n",
    "    scores = list()\n",
    "    names = list()\n",
    "    for _ in range(int(input())):\n",
    "        name = input()\n",
    "        score = float(input()) \n",
    "        students.append([name,score])\n",
    "        if score not in scores:\n",
    "                scores.append(score)\n",
    "    scores.sort()\n",
    "    second_low = scores[1]\n",
    "    names = sorted([students[i][0] for i in range(0,len(students)) if students[i][1] == second_low], key = str.lower)\n",
    "    #added the key = str.lower in case some names were provided with a lower case first letter as a mistake\n",
    "    for i in names:\n",
    "            print(i)"
   ]
  },
  {
   "cell_type": "markdown",
   "metadata": {},
   "source": [
    "### tuples\n"
   ]
  },
  {
   "cell_type": "code",
   "execution_count": null,
   "metadata": {},
   "outputs": [],
   "source": [
    "if __name__ == '__main__':\n",
    "    n = int(input())\n",
    "    integer_list = map(int, input().split())\n",
    "    \n",
    "    t = tuple(integer_list)\n",
    "    print(hash(t))\n"
   ]
  },
  {
   "cell_type": "markdown",
   "metadata": {},
   "source": [
    "## Strings\n",
    "\n",
    "### Find a string"
   ]
  },
  {
   "cell_type": "code",
   "execution_count": null,
   "metadata": {},
   "outputs": [],
   "source": [
    "def count_substring(string, sub_string):\n",
    "\n",
    "    count = 0\n",
    "    \n",
    "    for i in range(0, len(string)-len(sub_string)+1):\n",
    "        n = 0\n",
    "        for j in range(0,len(sub_string)):\n",
    "                        \n",
    "                if sub_string[j] != string[i+j]:\n",
    "                        break\n",
    "                else: \n",
    "                        n += 1      \n",
    "        if n == len(sub_string):\n",
    "                count +=1\n",
    "                \n",
    "       \n",
    "    return(count)\n",
    "\n",
    "if __name__ == '__main__':\n",
    "    string = input().strip()\n",
    "    sub_string = input().strip()\n",
    "    \n",
    "    count = count_substring(string, sub_string)\n",
    "    print(count)"
   ]
  },
  {
   "cell_type": "markdown",
   "metadata": {},
   "source": [
    "### Mutations"
   ]
  },
  {
   "cell_type": "code",
   "execution_count": null,
   "metadata": {},
   "outputs": [],
   "source": [
    "def mutate_string(string, position, character):\n",
    "    string = string[:position] + character + string[position+1:]\n",
    "    return(string)\n",
    "\n",
    "if __name__ == '__main__':\n",
    "    s = input()\n",
    "    i, c = input().split()\n",
    "    s_new = mutate_string(s, int(i), c)\n",
    "    print(s_new)"
   ]
  },
  {
   "cell_type": "markdown",
   "metadata": {},
   "source": [
    "### String Split and Join"
   ]
  },
  {
   "cell_type": "code",
   "execution_count": null,
   "metadata": {},
   "outputs": [],
   "source": [
    "def split_and_join(line):\n",
    "    line = line.split(\" \")\n",
    "    line = \"-\".join(line)\n",
    "    return(line)\n",
    "\n",
    "if __name__ == '__main__':\n",
    "    line = input()\n",
    "    result = split_and_join(line)\n",
    "    print(result)\n"
   ]
  },
  {
   "cell_type": "markdown",
   "metadata": {},
   "source": [
    "### String Validators"
   ]
  },
  {
   "cell_type": "code",
   "execution_count": null,
   "metadata": {},
   "outputs": [],
   "source": [
    "if __name__ == '__main__':\n",
    "    s = input()\n",
    "    commands = ['isalnum', 'isalpha', 'isdigit', 'islower', 'isupper']\n",
    "    for command in commands :\n",
    "        print(any(eval(\"letter.\" + command + \"()\") for letter in s))\n",
    "    \n"
   ]
  },
  {
   "cell_type": "markdown",
   "metadata": {},
   "source": [
    "### sWAP cASE"
   ]
  },
  {
   "cell_type": "code",
   "execution_count": null,
   "metadata": {},
   "outputs": [],
   "source": [
    "def swap_case(s):\n",
    "    j = 0\n",
    "    new_s = ''\n",
    "    for i in s:\n",
    "       if i.isupper():\n",
    "           new_s += s[j].lower()\n",
    "       elif i.islower():\n",
    "           new_s += s[j].upper()\n",
    "       else: \n",
    "           new_s += s[j]\n",
    "       j +=1\n",
    "    return(new_s)\n",
    "\n",
    "if __name__ == '__main__':\n",
    "    s = input()\n",
    "    result = swap_case(s)\n",
    "    print(result)"
   ]
  },
  {
   "cell_type": "markdown",
   "metadata": {},
   "source": [
    "### Text Wrap"
   ]
  },
  {
   "cell_type": "code",
   "execution_count": null,
   "metadata": {},
   "outputs": [],
   "source": [
    "import textwrap\n",
    "\n",
    "def wrap(string, max_width):\n",
    "    new_string = textwrap.fill(string, max_width)\n",
    "    return(new_string)\n",
    "\n",
    "if __name__ == '__main__':\n",
    "    string, max_width = input(), int(input())\n",
    "    result = wrap(string, max_width)\n",
    "    print(result)"
   ]
  },
  {
   "cell_type": "markdown",
   "metadata": {},
   "source": [
    "### What's Your Name?"
   ]
  },
  {
   "cell_type": "code",
   "execution_count": null,
   "metadata": {},
   "outputs": [],
   "source": [
    "#\n",
    "# Complete the 'print_full_name' function below.\n",
    "#\n",
    "# The function is expected to return a STRING.\n",
    "# The function accepts following parameters:\n",
    "#  1. STRING first\n",
    "#  2. STRING last\n",
    "#\n",
    "\n",
    "def print_full_name(first, last):\n",
    "    print(f\"Hello {first_name} {last_name}! You just delved into python.\")\n",
    "    \n",
    "\n",
    "if __name__ == '__main__':\n",
    "    first_name = input()\n",
    "    last_name = input()\n",
    "    print_full_name(first_name, last_name)"
   ]
  },
  {
   "cell_type": "markdown",
   "metadata": {},
   "source": [
    "## Sets\n",
    "\n",
    "### Check Strict Superset"
   ]
  },
  {
   "cell_type": "code",
   "execution_count": null,
   "metadata": {},
   "outputs": [],
   "source": [
    "Set_A = set(map(int, input().split()))\n",
    "N = int(input())\n",
    "result = True\n",
    "for i in range(N):\n",
    "    Set_B = set(map(int, input().split()))\n",
    "    if len(Set_B) > len(Set_A):\n",
    "        result = False\n",
    "    elif Set_B.intersection(Set_A) != Set_B:\n",
    "        result = False\n",
    "\n",
    "print(result)\n"
   ]
  },
  {
   "cell_type": "markdown",
   "metadata": {},
   "source": [
    "### Check Subset"
   ]
  },
  {
   "cell_type": "code",
   "execution_count": null,
   "metadata": {},
   "outputs": [],
   "source": [
    "# Enter your code here. Read input from STDIN. Print output to STDOUT\n",
    "T = int(input())\n",
    "for i in range(T):\n",
    "    n_A = input()\n",
    "    A = set(map(int, input().split()))\n",
    "    n_B = input()\n",
    "    B = set(map(int, input().split()))\n",
    "    \n",
    "    if A == A.intersection(B):\n",
    "        print(True)\n",
    "    else:\n",
    "        print(False)\n"
   ]
  },
  {
   "cell_type": "markdown",
   "metadata": {},
   "source": [
    "### Introduction to Sets"
   ]
  },
  {
   "cell_type": "code",
   "execution_count": null,
   "metadata": {},
   "outputs": [],
   "source": [
    "def average(array):\n",
    "    array = set(array)\n",
    "    n = len(array)\n",
    "    avg = f\"{sum(array)/n:.3f}\"\n",
    "    return(avg)\n",
    "\n",
    "if __name__ == '__main__':\n",
    "    n = int(input())\n",
    "    arr = list(map(int, input().split()))\n",
    "    result = average(arr)\n",
    "    print(result)"
   ]
  },
  {
   "cell_type": "markdown",
   "metadata": {},
   "source": [
    "### No Idea!"
   ]
  },
  {
   "cell_type": "code",
   "execution_count": null,
   "metadata": {},
   "outputs": [],
   "source": [
    "n,m = input().split()\n",
    "array = list(input().split())\n",
    "A = set(input().split())\n",
    "B = set(input().split())\n",
    "score = 0\n",
    "for i in array: \n",
    "    \n",
    "    if i in A:\n",
    "        score += 1\n",
    "    if i in B:\n",
    "        score += -1\n",
    "\n",
    "print(score)\n"
   ]
  },
  {
   "cell_type": "markdown",
   "metadata": {},
   "source": [
    "### Set difference Operation"
   ]
  },
  {
   "cell_type": "code",
   "execution_count": null,
   "metadata": {},
   "outputs": [],
   "source": [
    "# Enter your code here. Read input from STDIN. Print output to STDOUT\n",
    "n = input()\n",
    "set_eng = set(map(int, input().split()))\n",
    "b = input()\n",
    "set_french = set(map(int, input().split()))\n",
    "\n",
    "print(len(set_eng - set_french))\n"
   ]
  },
  {
   "cell_type": "markdown",
   "metadata": {},
   "source": [
    "### Set discard(), remove() & pop()"
   ]
  },
  {
   "cell_type": "code",
   "execution_count": null,
   "metadata": {},
   "outputs": [],
   "source": [
    "#I lost 1 hour working on this wondering how I could obtain the same result every time if pop() is supposed to remove a random element and also \n",
    "# handling the invitable KeyError raised to discover that my code was fine but I needed to use the Python 3 settings above instead of pypy3... \n",
    "# (this I discovered looking at the discussion in the forum)\n",
    "len_set = int(input())\n",
    "set_val = {int(x) for x in input().split()}\n",
    "N = int(input())\n",
    "Commands = [input().split() for i in range(N)]\n",
    "for i in Commands:\n",
    "    try:\n",
    "        if len(i) == 2:\n",
    "            exec(f\"set_val.{i[0]}({i[1]})\")\n",
    "        else:\n",
    "            exec(f\"set_val.{i[0]}()\")\n",
    "    except KeyError:\n",
    "        pass  # Ignore the KeyError and continue with the next command\n",
    "\n",
    "print(sum(set_val))\n"
   ]
  },
  {
   "cell_type": "markdown",
   "metadata": {},
   "source": [
    "### Set intersection Operation"
   ]
  },
  {
   "cell_type": "code",
   "execution_count": null,
   "metadata": {},
   "outputs": [],
   "source": [
    "# Enter your code here. Read input from STDIN. Print output to STDOUT\n",
    "n = int(input())\n",
    "List_eng = set(map(int, input().split()))\n",
    "b = int(input())\n",
    "List_french = set(map(int, input().split()))\n",
    "print(len(List_eng & List_french))\n",
    "\n"
   ]
  },
  {
   "cell_type": "markdown",
   "metadata": {},
   "source": [
    "### Set Mutations"
   ]
  },
  {
   "cell_type": "code",
   "execution_count": null,
   "metadata": {},
   "outputs": [],
   "source": [
    "# Enter your code here. Read input from STDIN. Print output to STDOUT\n",
    "n = input()\n",
    "set_original = set(map(int, input().split()))\n",
    "number_of_commands = int(input())\n",
    "for i in range(number_of_commands):\n",
    "    command, *leng = input().split()\n",
    "    set_i = set(map(int, input().split()))\n",
    "    eval(f\"set_original.{command}({set_i})\")\n",
    "\n",
    "print(sum(set_original))\n",
    "    "
   ]
  },
  {
   "cell_type": "markdown",
   "metadata": {},
   "source": [
    "### Set symmetric_difference Operation"
   ]
  },
  {
   "cell_type": "code",
   "execution_count": null,
   "metadata": {},
   "outputs": [],
   "source": [
    "# Enter your code here. Read input from STDIN. Print output to STDOUT\n",
    "n = input()\n",
    "set_eng = set(map(int, input().split()))\n",
    "b = input()\n",
    "set_french = set(map(int, input().split()))\n",
    "\n",
    "print(len(set_eng ^ set_french))\n"
   ]
  },
  {
   "cell_type": "markdown",
   "metadata": {},
   "source": [
    "### Set union Operation."
   ]
  },
  {
   "cell_type": "code",
   "execution_count": null,
   "metadata": {},
   "outputs": [],
   "source": [
    "# Enter your code here. Read input from STDIN. Print output to STDOUT\n",
    "n = input()\n",
    "eng = set(input().split())\n",
    "b= input()\n",
    "french = set(input().split())\n",
    "\n",
    "union_set = eng.union(french)\n",
    "\n",
    "print(len(union_set))\n"
   ]
  },
  {
   "cell_type": "markdown",
   "metadata": {},
   "source": [
    "### Set.add()"
   ]
  },
  {
   "cell_type": "code",
   "execution_count": null,
   "metadata": {},
   "outputs": [],
   "source": [
    "# Enter your code here. Read input from STDIN. Print output to STDOUT\n",
    "N = int(input())\n",
    "Countries = set()\n",
    "for i in range(N):\n",
    "    Countries.add(input())\n",
    "\n",
    "print(len(Countries))\n"
   ]
  },
  {
   "cell_type": "markdown",
   "metadata": {},
   "source": [
    "### Symmetric Difference"
   ]
  },
  {
   "cell_type": "code",
   "execution_count": null,
   "metadata": {},
   "outputs": [],
   "source": [
    "M = input()\n",
    "a = set(input().split())\n",
    "N = input()\n",
    "b = set(input().split())\n",
    "\n",
    "diff = a.union(b) - a.intersection(b)\n",
    "diff = list(map(int, diff))\n",
    "[print(i) for i in sorted(diff)]\n",
    "\n"
   ]
  },
  {
   "cell_type": "markdown",
   "metadata": {},
   "source": [
    "### The Captain's Room."
   ]
  },
  {
   "cell_type": "code",
   "execution_count": null,
   "metadata": {},
   "outputs": [],
   "source": [
    "# Enter your code here. Read input from STDIN. Print output to STDOUT\n",
    "K = input()\n",
    "list_rooms = list(map(int, input().split()))\n",
    "set_rooms = set(list_rooms)\n",
    "for i in set_rooms:\n",
    "    list_rooms.remove(i)\n",
    "    if i not in list_rooms:\n",
    "        print(i)\n"
   ]
  },
  {
   "cell_type": "markdown",
   "metadata": {},
   "source": [
    "## Built-Ins"
   ]
  },
  {
   "cell_type": "markdown",
   "metadata": {},
   "source": [
    "### ginortS"
   ]
  },
  {
   "cell_type": "code",
   "execution_count": null,
   "metadata": {},
   "outputs": [],
   "source": [
    "# Enter your code here. Read input from STDIN. Print output to STDOUT\n",
    "lower_case_letters =[]\n",
    "upper_case_letters =[]\n",
    "even_dig = []\n",
    "odd_dig =[]\n",
    "\n",
    "for i in input():\n",
    "    if i.isalpha() and i.islower():\n",
    "        lower_case_letters.append(i)\n",
    "    elif i.isalpha() and i.isupper():\n",
    "        upper_case_letters.append(i)\n",
    "    elif i.isdecimal() and int(i)% 2 ==0:\n",
    "        even_dig.append(i)\n",
    "    else:\n",
    "        odd_dig.append(i)\n",
    "\n",
    "\n",
    "commands = [\"''.join(sorted(lower_case_letters))\", \"''.join(sorted(upper_case_letters))\", \"''.join(sorted(odd_dig))\", \"''.join(sorted(even_dig))\"]\n",
    "sorted_list = [eval(i) for i in commands]\n",
    "print(''.join(sorted_list))\n",
    "\n",
    "#This is probably too complicated, but it works... I'll revisit this if I have time\n"
   ]
  },
  {
   "cell_type": "markdown",
   "metadata": {},
   "source": [
    "### Python Evaluation"
   ]
  },
  {
   "cell_type": "code",
   "execution_count": null,
   "metadata": {},
   "outputs": [],
   "source": [
    "#well this was short...\n",
    "eval(input())"
   ]
  },
  {
   "cell_type": "markdown",
   "metadata": {},
   "source": [
    "### Zipped"
   ]
  },
  {
   "cell_type": "code",
   "execution_count": null,
   "metadata": {},
   "outputs": [],
   "source": [
    "# Enter your code here. Read input from STDIN. Print output to STDOUT\n",
    "N, X = map(int, input().split())\n",
    "#let's create an empty list that will become our zip object\n",
    "students_marks = list()\n",
    "\n",
    "for _ in range(X):\n",
    "    topic_marks = list(map(float, input().split()))\n",
    "    #we append the list of votes for topic i\n",
    "    students_marks.append(topic_marks)\n",
    "    \n",
    "#we calculate the average for each tuple created by zip, corresponding to the votes of each student\n",
    "avg = [sum(i)/X for i in zip(*students_marks)]\n",
    "\n",
    "#and then print with one decimal\n",
    "for i in range(N):\n",
    "    print(f\"{avg[i]:.1f}\")"
   ]
  },
  {
   "cell_type": "markdown",
   "metadata": {},
   "source": [
    "## Collections\n",
    "\n",
    "### collections.Counter()"
   ]
  },
  {
   "cell_type": "code",
   "execution_count": null,
   "metadata": {},
   "outputs": [],
   "source": [
    "\n",
    "from collections import Counter\n",
    "X = int(input())\n",
    "shoes = list(map(int, input().split()))\n",
    "shoes_dict = Counter(shoes)\n",
    "N = int(input())\n",
    "total = 0\n",
    "for i in range(N):\n",
    "    shoe_size, prize = list(map(int, input().split()))\n",
    "    if shoe_size in shoes_dict.keys() and shoes_dict[shoe_size] != 0:\n",
    "        total += prize\n",
    "        shoes_dict[shoe_size] = shoes_dict[shoe_size] -1\n",
    "    else:\n",
    "        pass\n",
    "\n",
    "print(total)\n"
   ]
  },
  {
   "cell_type": "markdown",
   "metadata": {},
   "source": [
    "### collections.deque()"
   ]
  },
  {
   "cell_type": "code",
   "execution_count": null,
   "metadata": {},
   "outputs": [],
   "source": [
    "# Enter your code here. Read input from STDIN. Print output to STDOUT\n",
    "from collections import deque\n",
    "d = deque()\n",
    "for i in range(int(input())):\n",
    "    command, *value = input().split()\n",
    "    if value != []:\n",
    "        exec(f\"d.{command}(int({value}[0]))\")\n",
    "    else:\n",
    "        exec(f\"d.{command}()\")\n",
    "print(*d)\n"
   ]
  },
  {
   "cell_type": "markdown",
   "metadata": {},
   "source": [
    "### collections.namedtuple()"
   ]
  },
  {
   "cell_type": "code",
   "execution_count": null,
   "metadata": {},
   "outputs": [],
   "source": [
    "# Enter your code here. Read input from STDIN. Print output to STDOUT\n",
    "from collections import namedtuple\n",
    "N, student =int(input()), namedtuple('student', input())\n",
    "St_List = [student(*input().split()) for i in range(N)]\n",
    "print(sum([int(student.MARKS) for student in St_List])/N)\n"
   ]
  },
  {
   "cell_type": "markdown",
   "metadata": {},
   "source": [
    "### collections.OrderedDict()"
   ]
  },
  {
   "cell_type": "code",
   "execution_count": null,
   "metadata": {},
   "outputs": [],
   "source": [
    "# Enter your code here. Read input from STDIN. Print output to STDOUT\n",
    "from collections import OrderedDict\n",
    "Market = OrderedDict()\n",
    "for i in range(int(input())):\n",
    "    item_name, price = input().rsplit(' ', 1)\n",
    "    if item_name in Market.keys():\n",
    "        Market[item_name] += int(price)\n",
    "    else:\n",
    "        Market[item_name] = int(price)\n",
    "for item_name, net_price in Market.items():\n",
    "    print(f\"{item_name} {net_price}\")\n"
   ]
  },
  {
   "cell_type": "markdown",
   "metadata": {},
   "source": [
    "### Company logo"
   ]
  },
  {
   "cell_type": "code",
   "execution_count": null,
   "metadata": {},
   "outputs": [],
   "source": [
    "#!/bin/python3\n",
    "\n",
    "import math\n",
    "import os\n",
    "import random\n",
    "import re\n",
    "import sys\n",
    "from collections import defaultdict\n",
    "\n",
    "\n",
    "if __name__ == '__main__':\n",
    "    s = input()\n",
    "    dict_s = defaultdict(int)\n",
    "    for i in s:\n",
    "        dict_s[i] += 1\n",
    "    \n",
    "    for _ in range(3):\n",
    "        keys_from_value = [(key, value) for key, value in dict_s.items() if value == max(dict_s.values())]\n",
    "        keys_from_value = sorted(keys_from_value, key=lambda x: x[0])\n",
    "        print(*keys_from_value[0])\n",
    "        dict_s.pop(keys_from_value[0][0])\n",
    "    "
   ]
  },
  {
   "cell_type": "markdown",
   "metadata": {},
   "source": [
    "### DefaultDict Tutorial"
   ]
  },
  {
   "cell_type": "code",
   "execution_count": null,
   "metadata": {},
   "outputs": [],
   "source": [
    "from collections import defaultdict\n",
    "N, M = list(map(int, input().split()))\n",
    "A = defaultdict(list)\n",
    "for i in range(N):\n",
    "    A[input()].append(i+1)\n",
    "\n",
    "for i in range(M):\n",
    "    b = input()\n",
    "    if A[b] == []:\n",
    "        print(-1)\n",
    "    else:\n",
    "        print(*A[b])\n",
    "    \n"
   ]
  },
  {
   "cell_type": "markdown",
   "metadata": {},
   "source": [
    "### Piling Up!"
   ]
  },
  {
   "cell_type": "code",
   "execution_count": null,
   "metadata": {},
   "outputs": [],
   "source": [
    "# Enter your code here. Read input from STDIN. Print output to STD\n",
    "from collections import deque\n",
    "for _ in range(int(input())):\n",
    "    n = int(input())\n",
    "    blocks = deque(map(int, input().split()))\n",
    "    top_block = max(blocks[0], blocks[-1])\n",
    "    success = True\n",
    "    for _ in range(n):\n",
    "        if blocks[0] >= blocks[-1] and top_block >= blocks[0]:\n",
    "            top_block = blocks.popleft()\n",
    "        elif blocks[-1] >= blocks[0] and top_block >= blocks[-1]:\n",
    "            top_block = blocks.pop()\n",
    "        else:\n",
    "            print('No')\n",
    "            success = False\n",
    "            break\n",
    "    if success:\n",
    "        print('Yes')\n",
    "            \n",
    "    "
   ]
  },
  {
   "cell_type": "markdown",
   "metadata": {},
   "source": [
    "### Word Order"
   ]
  },
  {
   "cell_type": "code",
   "execution_count": null,
   "metadata": {},
   "outputs": [],
   "source": [
    "# Enter your code here. Read input from STDIN. Print output to STDOUT\n",
    "from collections import OrderedDict\n",
    "words = OrderedDict()\n",
    "for i in range(int(input())):\n",
    "    word = input()\n",
    "    if word in words.keys():\n",
    "        words[word] +=1\n",
    "    else:\n",
    "        words[word] = 1\n",
    "print(len(words.keys()))        \n",
    "print(*words.values())\n",
    "    \n"
   ]
  },
  {
   "cell_type": "markdown",
   "metadata": {},
   "source": [
    "## Date and Time\n",
    "\n",
    "### Calendar Module"
   ]
  },
  {
   "cell_type": "code",
   "execution_count": null,
   "metadata": {},
   "outputs": [],
   "source": [
    "# Enter your code here. Read input from STDIN. Print output to STDOUT\n",
    "import calendar\n",
    "month, day, year = list(map(int, input().split()))\n",
    "print(calendar.day_name[calendar.weekday(year, month, day)].upper()) \n"
   ]
  },
  {
   "cell_type": "markdown",
   "metadata": {},
   "source": [
    "### Time Delta"
   ]
  },
  {
   "cell_type": "code",
   "execution_count": null,
   "metadata": {},
   "outputs": [],
   "source": [
    "#!/bin/python3\n",
    "\n",
    "import math\n",
    "import os\n",
    "import random\n",
    "import re\n",
    "import sys\n",
    "from datetime import datetime\n",
    "\n",
    "\n",
    "def time_delta(t1, t2):\n",
    "    # Define the date format to parse the timestamps\n",
    "    format_date = \"%a %d %b %Y %H:%M:%S %z\"\n",
    "\n",
    "    # Create datetime objects for both timestamps directly\n",
    "    date1 = datetime.strptime(t1, format_date)\n",
    "    date2 = datetime.strptime(t2, format_date)\n",
    "\n",
    "    # Calculate the absolute difference in seconds, gives a float\n",
    "    delta = abs((date1 - date2).total_seconds())\n",
    "\n",
    "    # Return the result as a string with no decimals\n",
    "    return f\"{delta:.0f}\"\n",
    "\n",
    "\n",
    "if __name__ == '__main__':\n",
    "    fptr = open(os.environ['OUTPUT_PATH'], 'w')\n",
    "\n",
    "    t = int(input())\n",
    "\n",
    "    for t_itr in range(t):\n",
    "        t1 = input()\n",
    "\n",
    "        t2 = input()\n",
    "\n",
    "        delta = time_delta(t1, t2)\n",
    "\n",
    "        fptr.write(delta + '\\n')\n",
    "\n",
    "    fptr.close()"
   ]
  },
  {
   "cell_type": "markdown",
   "metadata": {},
   "source": [
    "## Exceptions"
   ]
  },
  {
   "cell_type": "markdown",
   "metadata": {},
   "source": [
    "### Exceptions"
   ]
  },
  {
   "cell_type": "code",
   "execution_count": null,
   "metadata": {},
   "outputs": [],
   "source": [
    "# Enter your code here. Read input from STDIN. Print output to STDOUT\n",
    "for _ in range(int(input())):\n",
    "    try:\n",
    "        a, b = map(int, input().split())\n",
    "    \n",
    "        print(int(a/b))\n",
    "    except (ValueError) as e:\n",
    "        print(f\"Error Code: {e}\") \n",
    "    # since the solution uses an old error message I have to print it manually\n",
    "    except (ZeroDivisionError):\n",
    "        print(\"Error Code: integer division or modulo by zero\")\n"
   ]
  },
  {
   "cell_type": "markdown",
   "metadata": {},
   "source": [
    "## Numpy"
   ]
  },
  {
   "cell_type": "markdown",
   "metadata": {},
   "source": [
    "### Arrays"
   ]
  },
  {
   "cell_type": "code",
   "execution_count": null,
   "metadata": {},
   "outputs": [],
   "source": [
    "import numpy\n",
    "\n",
    "def arrays(arr):\n",
    "    arr.reverse()  # Reverse the list\n",
    "    return numpy.array(arr, float)\n",
    "\n",
    "arr = input().strip().split(' ')\n",
    "result = arrays(arr)\n",
    "print(result)"
   ]
  },
  {
   "cell_type": "markdown",
   "metadata": {},
   "source": [
    "### Concatenate"
   ]
  },
  {
   "cell_type": "code",
   "execution_count": null,
   "metadata": {},
   "outputs": [],
   "source": [
    "import numpy as np\n",
    "# I'll use the np abbreviation in every exercise, it's an habit\n",
    "\n",
    "N, M, P = map(int, input().split())\n",
    "\n",
    "matrix_a = np.array([list(map(int, input().split())) for _ in range(N)])\n",
    "\n",
    "matrix_b = np.array([list(map(int, input().split())) for _ in range(M)])\n",
    "\n",
    "print(np.concatenate((matrix_a, matrix_b), axis = 0 ))\n"
   ]
  },
  {
   "cell_type": "markdown",
   "metadata": {},
   "source": [
    "### Dot and Cross"
   ]
  },
  {
   "cell_type": "code",
   "execution_count": null,
   "metadata": {},
   "outputs": [],
   "source": [
    "import numpy as np\n",
    "\n",
    "N = int(input())\n",
    "\n",
    "A = np.array([input().split() for _ in range(N)], int)\n",
    "B = np.array([input().split() for _ in range(N)], int)\n",
    "\n",
    "print(np.dot(A, B))\n",
    "\n",
    "\n",
    "\n",
    "\n"
   ]
  },
  {
   "cell_type": "markdown",
   "metadata": {},
   "source": [
    "### Eye and Identity"
   ]
  },
  {
   "cell_type": "code",
   "execution_count": null,
   "metadata": {},
   "outputs": [],
   "source": [
    "import numpy as np\n",
    "\n",
    "np.set_printoptions(legacy='1.13')\n",
    "\n",
    "n, m = list(map(int, input().split()))\n",
    "\n",
    "print(np.eye(n, m))\n",
    "\n",
    "\n",
    "\n"
   ]
  },
  {
   "cell_type": "markdown",
   "metadata": {},
   "source": [
    "### Floor, Ceil and Rint"
   ]
  },
  {
   "cell_type": "code",
   "execution_count": null,
   "metadata": {},
   "outputs": [],
   "source": [
    "import numpy as np\n",
    "np.set_printoptions(legacy='1.13')\n",
    "\n",
    "array = np.array(input().split(), float)\n",
    "\n",
    "print(np.floor(array))\n",
    "print(np.ceil(array))\n",
    "print(np.rint(array))\n"
   ]
  },
  {
   "cell_type": "markdown",
   "metadata": {},
   "source": [
    "### Inner and Outer"
   ]
  },
  {
   "cell_type": "code",
   "execution_count": null,
   "metadata": {},
   "outputs": [],
   "source": [
    "import numpy as np\n",
    "\n",
    "A = np.array(input().split(), int)\n",
    "B = np.array(input().split(), int)\n",
    "\n",
    "print(np.inner(A, B))\n",
    "print(np.outer(A, B))\n",
    "\n"
   ]
  },
  {
   "cell_type": "markdown",
   "metadata": {},
   "source": [
    "### Linear Algebra"
   ]
  },
  {
   "cell_type": "code",
   "execution_count": null,
   "metadata": {},
   "outputs": [],
   "source": [
    "import numpy as np\n",
    "N = int(input())\n",
    "matrix = np.array([input().split() for _ in range(N)], float)\n",
    "\n",
    "print(f\"{round(np.linalg.det(matrix), 2)}\")\n"
   ]
  },
  {
   "cell_type": "markdown",
   "metadata": {},
   "source": [
    "### Mean, Var and Std"
   ]
  },
  {
   "cell_type": "code",
   "execution_count": null,
   "metadata": {},
   "outputs": [],
   "source": [
    "import numpy as np\n",
    "\n",
    "n, m = map(int, input().split())\n",
    "\n",
    "array = [input().split() for _ in range(n)]\n",
    "matrix = np.array(array, float)\n",
    "\n",
    "print(np.mean(matrix, axis = 1))\n",
    "print(np.var(matrix, axis = 0))\n",
    "#my output produces more digits than the expected output, so I have to round it...\n",
    "print(round(np.std(matrix),11))\n",
    "\n"
   ]
  },
  {
   "cell_type": "markdown",
   "metadata": {},
   "source": [
    "### Min and Max"
   ]
  },
  {
   "cell_type": "code",
   "execution_count": null,
   "metadata": {},
   "outputs": [],
   "source": [
    "import numpy as np\n",
    "\n",
    "n, m = map(int, input().split())\n",
    "\n",
    "array = [input().split() for _ in range(n)]\n",
    "matrix = np.array(array, int)\n",
    "print(np.max(np.min(matrix, axis = 1)))\n"
   ]
  },
  {
   "cell_type": "markdown",
   "metadata": {},
   "source": [
    "### Polynomials"
   ]
  },
  {
   "cell_type": "code",
   "execution_count": null,
   "metadata": {},
   "outputs": [],
   "source": [
    "import numpy as np\n",
    "\n",
    "print(np.polyval(np.array(input().split(), float),int(input())))\n",
    "\n",
    "\n",
    "\n"
   ]
  },
  {
   "cell_type": "markdown",
   "metadata": {},
   "source": [
    "### Shape and Reshape"
   ]
  },
  {
   "cell_type": "code",
   "execution_count": null,
   "metadata": {},
   "outputs": [],
   "source": [
    "import numpy\n",
    "\n",
    "original_list = list(map(int, input().split()))\n",
    "print(numpy.reshape(original_list, (3, 3)))\n",
    "\n",
    "# forgot to convert the list into a numpy array but in this case it's not necessary..."
   ]
  },
  {
   "cell_type": "markdown",
   "metadata": {},
   "source": [
    "### Sum and Prod"
   ]
  },
  {
   "cell_type": "code",
   "execution_count": null,
   "metadata": {},
   "outputs": [],
   "source": [
    "import numpy as np\n",
    "\n",
    "n, m = map(int, input().split())\n",
    "\n",
    "array = [input().split() for _  in range(n)]\n",
    "matrix = np.array(array, int)\n",
    "print(np.prod(np.sum(matrix, axis = 0)))\n",
    "\n",
    "\n"
   ]
  },
  {
   "cell_type": "markdown",
   "metadata": {},
   "source": [
    "### Transpose and Flatten"
   ]
  },
  {
   "cell_type": "code",
   "execution_count": null,
   "metadata": {},
   "outputs": [],
   "source": [
    "import numpy as np\n",
    "\n",
    "N, M = map(int, input().split())\n",
    "matrix = np.array([list(map(int, input().split())) for _ in range(N)])\n",
    "print(np.transpose(matrix))\n",
    "print(matrix.flatten())\n",
    "\n",
    "\n"
   ]
  },
  {
   "cell_type": "markdown",
   "metadata": {},
   "source": [
    "### Zeros and Ones"
   ]
  },
  {
   "cell_type": "code",
   "execution_count": null,
   "metadata": {},
   "outputs": [],
   "source": [
    "import numpy as np\n",
    "\n",
    "list_d = list(map(int, input().split()))\n",
    "\n",
    "print(np.zeros(list_d, int))\n",
    "print(np.ones(list_d, int))\n",
    "\n"
   ]
  },
  {
   "cell_type": "markdown",
   "metadata": {},
   "source": [
    "## Regex and Parsing"
   ]
  },
  {
   "cell_type": "markdown",
   "metadata": {},
   "source": [
    "### Detect Floating Point Number"
   ]
  },
  {
   "cell_type": "code",
   "execution_count": null,
   "metadata": {},
   "outputs": [],
   "source": [
    "# Enter your code here. Read input from STDIN. Print output to STDOUT\n",
    "import re\n",
    "\n",
    "for _ in range(int(input())):\n",
    "    string = input()\n",
    "    patter = r\"^[+-]?(\\d+\\.\\d+|\\.\\d+)$\"\n",
    "    result = re.match(patter, string)\n",
    "    try:\n",
    "        if result:\n",
    "            # Attempt to convert the matched result to float\n",
    "            test = float(result.group())\n",
    "            print(True)\n",
    "        else:\n",
    "            print(False)\n",
    "    except ValueError: #the problem here can only rise from a valueError \n",
    "        print(False)\n"
   ]
  },
  {
   "cell_type": "markdown",
   "metadata": {},
   "source": [
    "### Group(), Groups() & Groupdict()"
   ]
  },
  {
   "cell_type": "code",
   "execution_count": null,
   "metadata": {},
   "outputs": [],
   "source": [
    "# Enter your code here. Read input from STDIN. Print output to STDOUT\n",
    "import re\n",
    "\n",
    "s = input()\n",
    "\n",
    "# Regex pattern to find the first repeating alphanumeric character\n",
    "pattern = r'([a-zA-Z0-9])\\1'\n",
    "# I cannot use the expression \\w because it matches also the underscore character\n",
    "# this uses backreference, \\1 captures the same characters contained in the first group, which in this case is (\\w)\n",
    "\n",
    "# Search for the pattern in the string, we cannot use match cause it only checks for a match only at the beginning of the string\n",
    "match = re.search(pattern, s)\n",
    "\n",
    "# Check if there is a match and print the captured group\n",
    "if match:\n",
    "    print(match.group(1))  # Output the first repeating character\n",
    "else:\n",
    "    print(-1)  # No repeating character found\n",
    "\n",
    "\n"
   ]
  },
  {
   "cell_type": "markdown",
   "metadata": {},
   "source": [
    "### Re.findall() & Re.finditer()"
   ]
  },
  {
   "cell_type": "code",
   "execution_count": null,
   "metadata": {},
   "outputs": [],
   "source": [
    "# Enter your code here. Read input from STDIN. Print output to STDOUT\n",
    "\n",
    "import re\n",
    "# regex is a nightmare, had to work with the documentation on the side to create the correct pattern\n",
    "# This looks for a consonant as the start of the string to match but doesn't capture it.\n",
    "# other than \"lookbehind\" I used \"lookahaed\"\n",
    "pattern = r\"(?<=[qwrtypsdfghjklzxcvbnm])([aeiou]{2,})(?=[qwrtypsdfghjklzxcvbnm])\"\n",
    "\n",
    "s = input()\n",
    "\n",
    "result = re.finditer(pattern, s, re.IGNORECASE)\n",
    "\n",
    "for match in result:\n",
    "    print(match.group())\n",
    "\n",
    "# initially forgot to add this...\n",
    "\n",
    "if not list(re.finditer(pattern, s, re.IGNORECASE)):\n",
    "    print(-1)\n",
    "# this checks if the re.finditer() returned an empty iterable, transforming it into a list\n",
    "# which if empty is converted into the False boolean by the if, so I add the not"
   ]
  },
  {
   "cell_type": "markdown",
   "metadata": {},
   "source": [
    "### re.split()"
   ]
  },
  {
   "cell_type": "code",
   "execution_count": null,
   "metadata": {},
   "outputs": [],
   "source": [
    "regex_pattern = r\"[.,]\"\t#set of characters that can be matched\n",
    "import re\n",
    "print(\"\\n\".join(re.split(regex_pattern, input())))"
   ]
  },
  {
   "cell_type": "markdown",
   "metadata": {},
   "source": [
    "### re.start() & re.end() "
   ]
  },
  {
   "cell_type": "code",
   "execution_count": null,
   "metadata": {},
   "outputs": [],
   "source": [
    "# Enter your code here. Read input from STDIN. Print output to STDOUT\n",
    "import re\n",
    "String = input()\n",
    "pattern = input()\n",
    "# of course this exercise wants you to find overlapping matches...\n",
    "# so I cannot use finditer() or findall() as I initially thought\n",
    "# the only way I thought of doing this is by sliding through the string...\n",
    "\n",
    "\n",
    "# Initialize starting position for searching\n",
    "window_start = 0\n",
    "found = False\n",
    "# Looping with while\n",
    "while True:\n",
    "    \n",
    "    match = re.search(pattern, String[window_start:])\n",
    "    # this closes the loop if no matches are found, no match => search returns None\n",
    "    if not match:\n",
    "        break\n",
    "    # Calculate the start and end index in the original string\n",
    "    # I need to take the window starting position in the original string and add the match.start() in the slices string\n",
    "    start_index = window_start + match.start()\n",
    "    # same reasoning for the end\n",
    "    end_index = window_start + match.end() - 1\n",
    "    print(f\"({start_index}, {end_index})\")\n",
    "    found = True\n",
    "    window_start = start_index + 1\n",
    "\n",
    "if not found:\n",
    "    print(\"(-1, -1)\")\n",
    " "
   ]
  },
  {
   "cell_type": "markdown",
   "metadata": {},
   "source": [
    "### re.start() & re.end() v02"
   ]
  },
  {
   "cell_type": "code",
   "execution_count": null,
   "metadata": {},
   "outputs": [],
   "source": [
    "#modified this after having reread the documentation for lookahead, now much faster and cleaner\n",
    "import re\n",
    "String = input()\n",
    "pattern = rf\"(?=({input()}))\"\n",
    "\n",
    "list = [(m.start(), m.end()+len(pattern[3:-4])) for m in re.finditer(pattern, String)]\n",
    "\n",
    "# had to adjust the end with the length of the matched pattern\n",
    "\n",
    "if list:\n",
    "    for i in list:\n",
    "        print(i)\n",
    "else:\n",
    "    print((-1, -1))\n"
   ]
  },
  {
   "cell_type": "markdown",
   "metadata": {},
   "source": [
    "### regex Substitution"
   ]
  },
  {
   "cell_type": "code",
   "execution_count": null,
   "metadata": {},
   "outputs": [],
   "source": [
    "# Enter your code here. Read input from STDIN. Print output to STDOUT\n",
    "import re\n",
    "\n",
    "N = int(input())\n",
    "lines = []\n",
    "\n",
    "def check(match):\n",
    "    if match.group(0) == '&&':\n",
    "        return('and')\n",
    "    elif match.group(0) == '||':\n",
    "        return('or')\n",
    "\n",
    "# same usage of lookahead and lookbehind notation, \\s indicates a whitespace         \n",
    "lines = [re.sub(r\"(?<=\\s)(&&|\\|\\|)(?=\\s)\", check, input()) for i in range(N)]\n",
    "print(\"\\n\".join(lines))\n"
   ]
  },
  {
   "cell_type": "markdown",
   "metadata": {},
   "source": [
    "### Validating and Parsing Email Adresses"
   ]
  },
  {
   "cell_type": "code",
   "execution_count": null,
   "metadata": {},
   "outputs": [],
   "source": [
    "import re\n",
    "\n",
    "N = int(input())\n",
    "Contacts = [input().strip() for _ in range(N)]\n",
    "\n",
    "# Regex pattern to validate the email\n",
    "pattern = r\"^[a-z][a-z0-9._-]*@[a-z]+\\.[a-z]{1,3}$\"\n",
    "\n",
    "for contact in Contacts:\n",
    "    name, email = contact.split()\n",
    "    # Remove angle brackets around the email using slicing\n",
    "    email = email[1:-1]\n",
    "    \n",
    "    if re.match(pattern, email, re.I):\n",
    "        print(contact)\n",
    "\n",
    "# I don't know if I should use Email.utils() to consider this exercise complete\n",
    "# But it was much easier this way"
   ]
  },
  {
   "cell_type": "markdown",
   "metadata": {},
   "source": [
    "### Validating Credit Card Numbers"
   ]
  },
  {
   "cell_type": "code",
   "execution_count": null,
   "metadata": {},
   "outputs": [],
   "source": [
    "# Enter your code here. Read input from STDIN. Print output to STDOUT\n",
    "import re \n",
    "\n",
    "# I think I'll need to do this in two steps\n",
    "N = int(input())\n",
    "\n",
    "cards_to_check = [input().strip() for _ in range(N)] \n",
    "\n",
    "pattern = r'^(4|5|6)\\d{3}(-?\\d{4}){3}$'\n",
    "\n",
    "# this checks that the string follows the right format, 4 groups of four digits separeted by '-' \n",
    "\n",
    "pattern_2 = r'(\\d)\\1{3,}'\n",
    "# this looks for repetitions of four same digits\n",
    "# testing this out in the case of the input: 5133-3367-8912-3456\n",
    "# it doesn't catch the four subsequent 3 separated by the -\n",
    "# so I need to eliminate the separators (line 25)\n",
    "\n",
    "\n",
    "for i in cards_to_check:\n",
    "    match = re.match(pattern, i)\n",
    "\n",
    "    if match:\n",
    "        \n",
    "        i = re.sub(r\"[ -]\", \"\", i)\n",
    "        \n",
    "        match_four = re.findall(pattern_2, i)\n",
    "        if match_four:\n",
    "            print('Invalid')\n",
    "        else:\n",
    "            print('Valid')\n",
    "\n",
    "    else:\n",
    "        print('Invalid')\n"
   ]
  },
  {
   "cell_type": "markdown",
   "metadata": {},
   "source": [
    "### Validating Phone Numbers"
   ]
  },
  {
   "cell_type": "code",
   "execution_count": null,
   "metadata": {},
   "outputs": [],
   "source": [
    "# Enter your code here. Read input from STDIN. Print output to STDOUT\n",
    "import re\n",
    "\n",
    "pattern = r\"(7|8|9)(\\d{9})$\"\n",
    "N = int(input())\n",
    "Number_list = [input() for _ in range(N)]\n",
    "\n",
    "for i in range(len(Number_list)):\n",
    "    match = re.match(pattern, Number_list[i])\n",
    "    if match:\n",
    "        print('YES')\n",
    "    else:\n",
    "        print('NO')"
   ]
  },
  {
   "cell_type": "markdown",
   "metadata": {},
   "source": [
    "###  Validating Postal Codes"
   ]
  },
  {
   "cell_type": "code",
   "execution_count": null,
   "metadata": {},
   "outputs": [],
   "source": [
    "regex_integer_in_range = r\"([1-9])[0-9]{5}$\"\t\n",
    "regex_alternating_repetitive_digit_pair = r\"(?=(\\d)(\\d)\\1)\"\t\n",
    "# to solve this I had to read very carefully the documentation about lookaheads \n",
    "# I then discovered that the best way to force findall() to look also at overlapping\n",
    "# patterns is to use lookahead... The way I did it in a previous ex. sliding with a while loop \n",
    "# was too complicated...\n",
    "\n",
    "import re\n",
    "P = input()\n",
    "\n",
    "print (bool(re.match(regex_integer_in_range, P)) \n",
    "and len(re.findall(regex_alternating_repetitive_digit_pair, P)) < 2)"
   ]
  },
  {
   "cell_type": "markdown",
   "metadata": {},
   "source": [
    "## Closures and Decorators"
   ]
  },
  {
   "cell_type": "markdown",
   "metadata": {},
   "source": [
    "### Standardize Mobile Number Using Decorators"
   ]
  },
  {
   "cell_type": "code",
   "execution_count": null,
   "metadata": {},
   "outputs": [],
   "source": [
    "def wrapper(f):\n",
    "    def fun(l):\n",
    "        formatted = []\n",
    "        for number in l:\n",
    "            # Remove prefixes tacking only the last 10 digits\n",
    "            number = number[-10:]\n",
    "            # we add the +91 at the beginning and introduce a space\n",
    "            formatted.append(f\"+91 {number[:5]} {number[5:]}\")\n",
    "        \n",
    "        return f(formatted)\n",
    "    return fun\n",
    "\n",
    "@wrapper\n",
    "def sort_phone(l):\n",
    "    print(*sorted(l), sep='\\n')\n",
    "\n",
    "if __name__ == '__main__':\n",
    "    l = [input() for _ in range(int(input()))]\n",
    "    sort_phone(l) \n",
    "\n"
   ]
  }
 ],
 "metadata": {
  "language_info": {
   "name": "python"
  }
 },
 "nbformat": 4,
 "nbformat_minor": 2
}
